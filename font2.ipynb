{
 "cells": [
  {
   "cell_type": "code",
   "execution_count": 1,
   "metadata": {},
   "outputs": [],
   "source": [
    "# Load the required libraries\n",
    "import numpy as np\n",
    "import pandas as pd\n",
    "import matplotlib.pyplot as plt\n",
    "from PIL import Image as im\n",
    "import pickle\n",
    "import cv2\n",
    "from tqdm import tqdm\n",
    "from scipy.ndimage import rotate\n",
    "import time\n",
    "import joblib\n",
    "from sklearn.metrics import accuracy_score,f1_score,classification_report\n",
    "import os\n",
    "from sklearn.linear_model import LogisticRegression\n",
    "from sklearn.svm import SVC\n",
    "from sklearn.model_selection import RandomizedSearchCV\n",
    "from sklearn.ensemble import RandomForestClassifier"
   ]
  },
  {
   "cell_type": "code",
   "execution_count": 2,
   "metadata": {},
   "outputs": [],
   "source": [
    "labels = [ 'Scheherazade New' , 'Marhey' , 'Lemonada' , 'IBM Plex Sans Arabic']\n",
    "image_size = 600\n",
    "def show_images(images,titles=None):\n",
    "    #This function is used to show image(s) with titles by sending an array of images and an array of associated titles.\n",
    "    # images[0] will be drawn with the title titles[0] if exists\n",
    "    # You aren't required to understand this function, use it as-is.\n",
    "    n_ims = len(images)\n",
    "    if titles is None: titles = ['(%d)' % i for i in range(1,n_ims + 1)]\n",
    "    fig = plt.figure()\n",
    "    n = 1\n",
    "    for image,title in zip(images,titles):\n",
    "        a = fig.add_subplot(1,n_ims,n)\n",
    "        if image.ndim == 2: \n",
    "            plt.gray()\n",
    "        plt.imshow(image)\n",
    "        a.set_title(title)\n",
    "        plt.axis('off')\n",
    "        n += 1\n",
    "    fig.set_size_inches(np.array(fig.get_size_inches()) * n_ims)\n",
    "    plt.show() "
   ]
  },
  {
   "cell_type": "code",
   "execution_count": 3,
   "metadata": {},
   "outputs": [],
   "source": [
    "# Load the images from fonts-dataset folder\n",
    "def load_images():\n",
    "    # Load the images from the fonts-dataset folder\n",
    "    images_train = []\n",
    "    labels_train = []\n",
    "    filenames = []\n",
    "    empty_images_filenames = [\"360.jpeg\",\"627.jpeg\",\"853.jpeg\"] \n",
    "    # Use tqdm to show a progress bar\n",
    "    for i in tqdm(labels):\n",
    "        for filename in os.listdir(f'fonts-dataset/{i}'):\n",
    "            img = cv2.imread(f'fonts-dataset/{i}/{filename}', cv2.IMREAD_GRAYSCALE)\n",
    "            # img = cv2.resize(img, (image_size, image_size))\n",
    "            if i == \"Lemonada\" and filename in empty_images_filenames:\n",
    "                print(filename)\n",
    "                print(\"empty image\")\n",
    "                continue\n",
    "            images_train.append(img)\n",
    "            labels_train.append(i)\n",
    "            filenames.append(filename)\n",
    "    return images_train, labels_train,filenames\n",
    "\n"
   ]
  },
  {
   "cell_type": "code",
   "execution_count": 4,
   "metadata": {},
   "outputs": [
    {
     "name": "stderr",
     "output_type": "stream",
     "text": [
      " 50%|█████     | 2/4 [00:25<00:25, 12.78s/it]"
     ]
    },
    {
     "name": "stdout",
     "output_type": "stream",
     "text": [
      "360.jpeg\n",
      "empty image\n",
      "627.jpeg\n",
      "empty image\n",
      "853.jpeg\n",
      "empty image\n"
     ]
    },
    {
     "name": "stderr",
     "output_type": "stream",
     "text": [
      "100%|██████████| 4/4 [00:48<00:00, 12.12s/it]\n"
     ]
    }
   ],
   "source": [
    "# Load the images\n",
    "X_train, y_train_org, filenames = load_images()\n",
    "# Change the y_train to numbers\n",
    "y_train_org = [labels.index(i) for i in y_train_org]"
   ]
  },
  {
   "cell_type": "code",
   "execution_count": 5,
   "metadata": {},
   "outputs": [
    {
     "data": {
      "text/plain": [
       "(3997, 3997, 3997)"
      ]
     },
     "execution_count": 5,
     "metadata": {},
     "output_type": "execute_result"
    }
   ],
   "source": [
    "len(X_train), len(y_train_org), len(filenames)"
   ]
  },
  {
   "cell_type": "code",
   "execution_count": 6,
   "metadata": {},
   "outputs": [],
   "source": [
    "def find_score(arr, angle):\n",
    "    \"\"\"\n",
    "    Find the score of the skew angle to be used in deskewing the image\n",
    "    \n",
    "    Args:\n",
    "    arr: the image array\n",
    "    angle: the angle to rotate the image by\n",
    "    \n",
    "    Returns:\n",
    "    hist: the histogram of the image\n",
    "    score: the score of the skew angle\n",
    "    \"\"\"\n",
    "    \n",
    "    # mode{‘reflect’, ‘grid-mirror’, ‘constant’, ‘grid-constant’, ‘nearest’, ‘mirror’, ‘grid-wrap’, ‘wrap’}\n",
    "    data = rotate(arr, angle, reshape=False, order=0, mode='constant', cval=0, prefilter=False)\n",
    "    hist = np.sum(data, axis=1)\n",
    "    score = np.sum((hist[1:] - hist[:-1]) ** 2)\n",
    "    return hist, score\n",
    "\n",
    "def rotate_image(image, angle):\n",
    "    \"\"\"\n",
    "    Rotates an image by a given angle and fills the remaining pixels with white color.\n",
    "\n",
    "    Args:\n",
    "        image: A NumPy array representing the input image.\n",
    "        angle: The rotation angle in degrees.\n",
    "\n",
    "    Returns:\n",
    "        A new NumPy array representing the rotated image.\n",
    "    \"\"\"\n",
    "    # Get image height and width\n",
    "    height, width = image.shape[:2]\n",
    "\n",
    "    # Compute the rotation matrix\n",
    "    rotation_matrix = cv2.getRotationMatrix2D((width / 2, height / 2), angle, 1)\n",
    "\n",
    "    # Perform the rotation and fill the remaining pixels with white color\n",
    "    rotated_image = cv2.warpAffine(image, rotation_matrix, (width, height), flags=cv2.INTER_LINEAR, borderMode=cv2.BORDER_CONSTANT, borderValue=(1, 1, 1))\n",
    "\n",
    "    return rotated_image\n",
    "\n",
    "def deskew(binary_img):\n",
    "    \"\"\"\n",
    "    Deskew the image\n",
    "    \n",
    "    Args:\n",
    "    binary_img: the binary image\n",
    "    \n",
    "    Returns:\n",
    "    pix: the deskewed image\n",
    "    \"\"\"\n",
    "    bin_img = (binary_img // 255.0)\n",
    "    # angles to check for skew angle = 45 degrees and 90 degrees and 180\n",
    "    angles = np.array ([0 , 45 , 90 , 135 , 180 , 225 , 270 , 315])\n",
    "    scores = []\n",
    "    for angle in angles:\n",
    "        hist, score = find_score(bin_img, angle)\n",
    "        scores.append(score)\n",
    "\n",
    "    best_score = max(scores)\n",
    "    best_angle = angles[scores.index(best_score)]\n",
    "    # print('Best angle: {}'.format(best_angle))\n",
    "\n",
    "    # correct skew\n",
    "    # data = rotate(bin_img, best_angle, reshape=False, order=0)\n",
    "    data = rotate_image(bin_img, best_angle)\n",
    "    img = im.fromarray((255 * data).astype(\"uint8\"))\n",
    "\n",
    "    pix = np.array(img)\n",
    "    return pix"
   ]
  },
  {
   "cell_type": "code",
   "execution_count": 7,
   "metadata": {},
   "outputs": [],
   "source": [
    "def preprocess(img):\n",
    "    \"\"\"\n",
    "    Preprocess the image\n",
    "    \n",
    "    Args:\n",
    "    img: the image\n",
    "    \n",
    "    Returns:\n",
    "    img: the preprocessed image\n",
    "    \"\"\"\n",
    "    sharpen_kernel = np.array([[0,-1, 0], [-1,5,-1], [0,-1,0]])\n",
    "    img = cv2.medianBlur(img, 3) # To remove Salt and Pepper noise\n",
    "    img = cv2.filter2D(img, -1, sharpen_kernel)  # Sharpen the image\n",
    "    img = cv2.threshold(img, 0, 255, cv2.THRESH_BINARY + cv2.THRESH_OTSU)[1] # Convert the image to binary\n",
    "    deskewed_img = deskew(img) # Deskew the image\n",
    "    final_img = cv2.bitwise_not(deskewed_img) if np.mean(deskewed_img) > 127 else deskewed_img # Invert the image if the mean is less than 127 \n",
    "    return final_img"
   ]
  },
  {
   "cell_type": "code",
   "execution_count": 8,
   "metadata": {},
   "outputs": [],
   "source": [
    "# # Preprocess the images\n",
    "# X_train_preprocess = [preprocess(i) for i in tqdm(X_train)]\n",
    "    \n",
    "# # Dump the preprocessed images to a file\n",
    "# with open('preprocessed_images.pkl', 'wb') as f:\n",
    "#     pickle.dump(X_train_preprocess, f)"
   ]
  },
  {
   "cell_type": "code",
   "execution_count": 9,
   "metadata": {},
   "outputs": [],
   "source": [
    "# Load the preprocessed images\n",
    "with open('preprocessed_images.pkl', 'rb') as f:\n",
    "    X_train_preprocess = pickle.load(f)"
   ]
  },
  {
   "cell_type": "code",
   "execution_count": 10,
   "metadata": {},
   "outputs": [],
   "source": [
    "import numpy as np\n",
    "import cv2 as cv\n",
    "\n",
    "\n",
    "def save_image(img, folder, title):\n",
    "    cv.imwrite(f'./{folder}/{title}.png', img)\n",
    "\n",
    "def projection(gray_img, axis:str='horizontal'):\n",
    "    \"\"\" Compute the horizontal or the vertical projection of a gray image \"\"\"\n",
    "\n",
    "    if axis == 'horizontal':\n",
    "        projection_bins = np.sum(gray_img, 1).astype('int32')\n",
    "    elif axis == 'vertical':\n",
    "        projection_bins = np.sum(gray_img, 0).astype('int32')\n",
    "\n",
    "    return projection_bins"
   ]
  },
  {
   "cell_type": "code",
   "execution_count": 11,
   "metadata": {},
   "outputs": [],
   "source": [
    "# def preprocess(image):\n",
    "\n",
    "#     # Maybe we end up using only gray level image.\n",
    "#     # gray_img = cv.bitwise_not(image) # Invert the image\n",
    "#     binary_img = cv.threshold(image, 0, 255, cv.THRESH_BINARY + cv.THRESH_OTSU)[1]\n",
    "#     deskewed_img = deskew(binary_img)\n",
    "#     return deskewed_img\n",
    "\n",
    "\n",
    "def projection_segmentation(clean_img, axis, cut=15, min_width=20, min_height=30):\n",
    "    \"\"\"Segment the image based on the projection profile\n",
    "\n",
    "    Args:\n",
    "        clean_img : Preprocessed image\n",
    "        axis (str): 'horizontal' or 'vertical'\n",
    "        cut (int, optional): Gap between the segments. Defaults to 3.\n",
    "        min_width (int, optional): Width of the segment. Defaults to 5.\n",
    "        min_height (int, optional): Height of the segment. Defaults to 5.\n",
    "\n",
    "    Returns:\n",
    "        _type_: _description_\n",
    "    \"\"\"\n",
    "    segments = []\n",
    "    start = -1\n",
    "    cnt = 0\n",
    "\n",
    "    projection_bins = projection(clean_img, axis)\n",
    "    for idx, projection_bin in enumerate(projection_bins):\n",
    "\n",
    "        if projection_bin != 0:\n",
    "            cnt = 0\n",
    "        if projection_bin != 0 and start == -1:\n",
    "            start = idx\n",
    "        if projection_bin == 0 and start != -1:\n",
    "            cnt += 1\n",
    "            if cnt >= cut:\n",
    "                if axis == 'horizontal':\n",
    "                    # Line segmentation\n",
    "                    segment = clean_img[max(start-1, 0):idx, :]\n",
    "                    # if segment.shape[0] >= min_height:                    \n",
    "                    segments.append(segment)\n",
    "                elif axis == 'vertical':\n",
    "                    # Word segmentation\n",
    "                    segment = clean_img[:, max(start-1, 0):idx]\n",
    "                    # if segment.shape[1] >= min_width:\n",
    "                    segments.append(segment)\n",
    "                cnt = 0\n",
    "                start = -1\n",
    "    \n",
    "    return segments\n",
    "\n",
    "\n",
    "# Line Segmentation\n",
    "#----------------------------------------------------------------------------------------\n",
    "def line_horizontal_projection(image, cut=3):\n",
    "\n",
    "    # Segmentation    \n",
    "    lines = projection_segmentation(image, axis='horizontal', cut=cut)\n",
    "    return lines\n",
    "\n",
    "\n",
    "# Word Segmentation\n",
    "#----------------------------------------------------------------------------------------\n",
    "def word_vertical_projection(line_image, cut=3):\n",
    "    \n",
    "    line_words = projection_segmentation(line_image, axis='vertical', cut=cut)\n",
    "    line_words.reverse()\n",
    "    return line_words\n",
    "\n",
    "\n",
    "def extract_words(img, visual=0):\n",
    "\n",
    "    lines = line_horizontal_projection(img)\n",
    "    words = []\n",
    "    \n",
    "    for idx, line in enumerate(lines):\n",
    "        \n",
    "        if visual:\n",
    "            # Check for the size of the line to be greater than 30\n",
    "            # if line.shape[0] > 30:\n",
    "            save_image(line, 'lines', f'line{idx}')\n",
    "\n",
    "        line_words = word_vertical_projection(line)\n",
    "        for w in line_words:\n",
    "            # if len(words) == 585:\n",
    "            #     print(idx)\n",
    "            words.append((w, line))\n",
    "        # words.extend(line_words)\n",
    "\n",
    "    # breakpoint()\n",
    "    if visual:\n",
    "        for idx, word in enumerate(words):\n",
    "            # check for the size of the word to be greater than 30\n",
    "            # print (word[0].shape)\n",
    "            # if word[0].shape[0] < 100 and word[0].shape[1] > 20 :\n",
    "            save_image(word[0], 'words', f'word{idx}')\n",
    "    return words\n",
    "\n",
    "# # Try to extract the words from the preprocessed images\n",
    "# x = 31\n",
    "# p = preprocess(X_train[x])\n",
    "\n",
    "# # show_images([X_train[999],p])\n",
    "\n",
    "# # Extract the words from the preprocessed images\n",
    "# words = extract_words(p, visual=1)\n",
    "# show_images([X_train[x], p])\n",
    "\n"
   ]
  },
  {
   "cell_type": "code",
   "execution_count": 12,
   "metadata": {},
   "outputs": [
    {
     "name": "stderr",
     "output_type": "stream",
     "text": [
      "100%|██████████| 4000/4000 [00:01<00:00, 2929.30it/s]\n"
     ]
    }
   ],
   "source": [
    "# Resize the images to 600x600\n",
    "X_train_resized = []\n",
    "for i in tqdm(X_train_preprocess):\n",
    "    img = cv2.resize(i, (image_size, image_size))\n",
    "    X_train_resized.append(img)\n",
    "X_train_resized = np.array(X_train_resized)\n",
    "    "
   ]
  },
  {
   "cell_type": "code",
   "execution_count": 13,
   "metadata": {},
   "outputs": [],
   "source": [
    "# Remove from X_train_resized with index = [2291, 2587, 2838]\n",
    "X_train_resized = np.delete(X_train_resized, [2291, 2587, 2838], 0)"
   ]
  },
  {
   "cell_type": "code",
   "execution_count": 14,
   "metadata": {},
   "outputs": [
    {
     "name": "stderr",
     "output_type": "stream",
     "text": [
      "100%|██████████| 3997/3997 [02:34<00:00, 25.86it/s]\n"
     ]
    },
    {
     "name": "stdout",
     "output_type": "stream",
     "text": [
      "(3997, 57600)\n"
     ]
    }
   ],
   "source": [
    "# Apply hog for the images\n",
    "from skimage.feature import hog\n",
    "\n",
    "X_train_hog = []\n",
    "for i in tqdm(X_train_resized):\n",
    "    X_train_hog.append(hog(i, orientations= 16, pixels_per_cell=(32, 32), cells_per_block=(4, 4), block_norm='L2-Hys'))\n",
    "    \n",
    "\n",
    "X_train_hog = np.array(X_train_hog)\n",
    "print(X_train_hog.shape)\n",
    "# # Try hog on one image\n",
    "# hog_image = hog(X_train_resized[0], orientations= 16, pixels_per_cell=(32, 32), cells_per_block=(4,4), block_norm='L2-Hys')\n",
    "# print(hog_image.shape)"
   ]
  },
  {
   "cell_type": "code",
   "execution_count": 15,
   "metadata": {},
   "outputs": [
    {
     "name": "stderr",
     "output_type": "stream",
     "text": [
      "  0%|          | 0/3997 [00:00<?, ?it/s]"
     ]
    },
    {
     "name": "stderr",
     "output_type": "stream",
     "text": [
      "100%|██████████| 3997/3997 [03:40<00:00, 18.09it/s]\n"
     ]
    }
   ],
   "source": [
    "# Apply SIFT for the images\n",
    "sift = cv2.SIFT_create()\n",
    "\n",
    "X_train_sift = []\n",
    "for i in tqdm(X_train_resized):\n",
    "    kp, des = sift.detectAndCompute(i, None)\n",
    "    if des is None:\n",
    "        # Add a row of zeros to the SIFT descriptors\n",
    "        des = np.zeros((1, 128))\n",
    "    des = des.flatten()\n",
    "    X_train_sift.append(des)\n"
   ]
  },
  {
   "cell_type": "code",
   "execution_count": 16,
   "metadata": {},
   "outputs": [
    {
     "name": "stdout",
     "output_type": "stream",
     "text": [
      "11506.0\n",
      "1265.8418814110582\n",
      "23.0\n"
     ]
    }
   ],
   "source": [
    "# Get the maximum keypoint length of the SIFT descriptors\n",
    "max_kp = max(len(kp)/128 for kp in X_train_sift)\n",
    "\n",
    "# Get the average keypoint length of the SIFT descriptors\n",
    "avg_kp = np.mean([len(kp)/128 for kp in X_train_sift])\n",
    "\n",
    "# Get the minimum keypoint length of the SIFT descriptors\n",
    "min_kp = min(len(kp)/128 for kp in X_train_sift)\n",
    "\n",
    "# Print the maximum keypoint length\n",
    "print(max_kp)\n",
    "\n",
    "# Print the average keypoint length\n",
    "print(avg_kp)\n",
    "\n",
    "# Print the minimum keypoint length\n",
    "print(min_kp)\n"
   ]
  },
  {
   "cell_type": "code",
   "execution_count": 17,
   "metadata": {},
   "outputs": [
    {
     "name": "stdout",
     "output_type": "stream",
     "text": [
      "[1783, 3780]\n"
     ]
    }
   ],
   "source": [
    "# Get the index of the image with keypoint <= 10\n",
    "idx = [i for i in range(len(X_train_sift)) if len(X_train_sift[i])/128 <= 50]\n",
    "# Print idx \n",
    "print(idx)\n",
    "\n",
    "# Found images which has no text "
   ]
  },
  {
   "cell_type": "code",
   "execution_count": 19,
   "metadata": {},
   "outputs": [
    {
     "name": "stdout",
     "output_type": "stream",
     "text": [
      "(3997, 44800)\n"
     ]
    }
   ],
   "source": [
    "# Pad the SIFT descriptors to the maximum length\n",
    "fixed_len = 128 * 350  # Adjust this as needed\n",
    "\n",
    "# Create a generator that yields each padded descriptor on-the-fly\n",
    "padded_descriptors = (np.pad(des, (0, max(0, fixed_len - des.shape[0])))[:fixed_len] for des in X_train_sift)\n",
    "\n",
    "# Convert the generator to a numpy array\n",
    "X_train_sift_np = np.array(list(padded_descriptors))\n",
    "\n",
    "# Print the shape of the numpy array\n",
    "print(X_train_sift_np.shape)"
   ]
  },
  {
   "cell_type": "code",
   "execution_count": 20,
   "metadata": {},
   "outputs": [
    {
     "name": "stdout",
     "output_type": "stream",
     "text": [
      "(3997, 102400)\n"
     ]
    }
   ],
   "source": [
    "# # Concatenate the hog and sift features\n",
    "X_train_features = np.concatenate((X_train_hog, X_train_sift_np), axis=1)\n",
    "print(X_train_features.shape)\n"
   ]
  },
  {
   "cell_type": "code",
   "execution_count": 21,
   "metadata": {},
   "outputs": [],
   "source": [
    "# Split the data into training and testing\n",
    "from sklearn.model_selection import train_test_split\n",
    "X_train, X_test, y_train, y_test = train_test_split(X_train_features, y_train_org, test_size=0.2, random_state=42, stratify=y_train_org)"
   ]
  },
  {
   "cell_type": "code",
   "execution_count": 22,
   "metadata": {},
   "outputs": [
    {
     "data": {
      "text/plain": [
       "['pipeline.pkl']"
      ]
     },
     "execution_count": 22,
     "metadata": {},
     "output_type": "execute_result"
    }
   ],
   "source": [
    "# Make a pipeline for the model which consist of StandardScaler , PCA and the model\n",
    "from sklearn.pipeline import Pipeline\n",
    "from sklearn.preprocessing import StandardScaler\n",
    "from sklearn.decomposition import PCA\n",
    "\n",
    "# Create a pipeline\n",
    "pipe = Pipeline([\n",
    "    ('scaler', StandardScaler()),\n",
    "    ('pca', PCA(n_components=0.99)),\n",
    "])\n",
    "\n",
    "# Fit the pipeline\n",
    "pipe.fit(X_train)\n",
    "\n",
    "# Dump the pipeline to a file\n",
    "joblib.dump(pipe, 'pipeline.pkl')"
   ]
  },
  {
   "cell_type": "code",
   "execution_count": 23,
   "metadata": {},
   "outputs": [],
   "source": [
    "# Load the pipeline\n",
    "pipe = joblib.load('pipeline.pkl')"
   ]
  },
  {
   "cell_type": "code",
   "execution_count": 25,
   "metadata": {},
   "outputs": [
    {
     "name": "stdout",
     "output_type": "stream",
     "text": [
      "(3197, 2982)\n"
     ]
    }
   ],
   "source": [
    "# Transform the data\n",
    "X_train_transformed = pipe.transform(X_train)\n",
    "X_test_transformed = pipe.transform(X_test)\n",
    "\n",
    "# Print the shape of the transformed data\n",
    "print(X_train_transformed.shape)"
   ]
  },
  {
   "cell_type": "code",
   "execution_count": 27,
   "metadata": {},
   "outputs": [
    {
     "name": "stdout",
     "output_type": "stream",
     "text": [
      "Train accuracy:  100.0\n",
      "Test accuracy:  90.375\n",
      "Train classification report:                        precision    recall  f1-score   support\n",
      "\n",
      "    Scheherazade New       1.00      1.00      1.00       800\n",
      "              Marhey       1.00      1.00      1.00       800\n",
      "            Lemonada       1.00      1.00      1.00       797\n",
      "IBM Plex Sans Arabic       1.00      1.00      1.00       800\n",
      "\n",
      "            accuracy                           1.00      3197\n",
      "           macro avg       1.00      1.00      1.00      3197\n",
      "        weighted avg       1.00      1.00      1.00      3197\n",
      "\n",
      "Test classification report:                        precision    recall  f1-score   support\n",
      "\n",
      "    Scheherazade New       0.91      0.86      0.88       200\n",
      "              Marhey       0.87      0.86      0.86       200\n",
      "            Lemonada       0.97      0.97      0.97       200\n",
      "IBM Plex Sans Arabic       0.87      0.92      0.90       200\n",
      "\n",
      "            accuracy                           0.90       800\n",
      "           macro avg       0.90      0.90      0.90       800\n",
      "        weighted avg       0.90      0.90      0.90       800\n",
      "\n"
     ]
    }
   ],
   "source": [
    "# Build a shallow neural network model of 1 hidden layer with 128 neurons and relu activation function\n",
    "from sklearn.neural_network import MLPClassifier\n",
    "from sklearn.metrics import accuracy_score\n",
    "\n",
    "# Create a model of 1 hidden layer with 128 neurons and relu activation function and adam solver and softmax output layer\n",
    "model = MLPClassifier(hidden_layer_sizes=(256,), activation='relu', solver='adam', max_iter=1000)\n",
    "\n",
    "# Fit the model\n",
    "model.fit(X_train_transformed, y_train)\n",
    "\n",
    "# Predict the training data\n",
    "y_train_pred = model.predict(X_train_transformed)\n",
    "\n",
    "# Predict the testing data\n",
    "y_test_pred = model.predict(X_test_transformed)\n",
    "\n",
    "# Print the accuracy of the model\n",
    "print('Train accuracy: ', accuracy_score(y_train, y_train_pred)*100)\n",
    "\n",
    "print('Test accuracy: ', accuracy_score(y_test, y_test_pred)*100)\n",
    "\n",
    "# Print the classification report\n",
    "print('Train classification report: ', classification_report(y_train, y_train_pred, target_names=labels))\n",
    "\n",
    "print('Test classification report: ', classification_report(y_test, y_test_pred, target_names=labels))\n",
    "\n",
    "# Accuracy: 92.75%"
   ]
  },
  {
   "cell_type": "code",
   "execution_count": 33,
   "metadata": {},
   "outputs": [],
   "source": [
    "# lin_model = LogisticRegression()\n",
    "\n",
    "# # Define the hyperparameters\n",
    "# param_grid = {\n",
    "#     'C': np.logspace(-4, 4, 30),\n",
    "#     'penalty': ['l2'],\n",
    "#     'solver': ['liblinear', 'saga', 'lbfgs'],\n",
    "#     'warm_start': [True, False]\n",
    "# }\n",
    "\n",
    "# # Initialize the RandomizedSearchCV\n",
    "# random_search = RandomizedSearchCV(lin_model, param_distributions=param_grid, n_iter=100, cv=5, verbose=2, random_state=42, n_jobs=-1)\n",
    "\n",
    "# # Fit the model\n",
    "# random_search.fit(X_train_transformed, y_train)\n",
    "# # cv_results_df = pd.DataFrame(clf_searched.cv_results_)[relevant_columns].round(decimals=3).sort_values(by='rank_test_score')\n",
    "# # cv_results_df.head(10)\n",
    "# relevant_columns = ['param_C', 'param_penalty', 'param_solver', 'param_warm_start', 'mean_test_score', 'std_test_score', 'rank_test_score']\n",
    "# cv_results_df = pd.DataFrame(random_search.cv_results_)[relevant_columns].round(decimals=3).sort_values(by='rank_test_score')\n",
    "# cv_results_df.head(10)\n",
    "\n",
    "# # Print the best parameters\n",
    "# print(random_search.best_params_)"
   ]
  },
  {
   "cell_type": "code",
   "execution_count": 106,
   "metadata": {},
   "outputs": [
    {
     "name": "stdout",
     "output_type": "stream",
     "text": [
      "Training Accuracy: 100.0\n",
      "Testing Accuracy: 95.5\n",
      "Training F1 Score: 1.0\n",
      "Testing F1 Score: 0.9551498172846553\n",
      "                      precision    recall  f1-score   support\n",
      "\n",
      "    Scheherazade New       1.00      1.00      1.00       800\n",
      "              Marhey       1.00      1.00      1.00       800\n",
      "            Lemonada       1.00      1.00      1.00       797\n",
      "IBM Plex Sans Arabic       1.00      1.00      1.00       800\n",
      "\n",
      "            accuracy                           1.00      3197\n",
      "           macro avg       1.00      1.00      1.00      3197\n",
      "        weighted avg       1.00      1.00      1.00      3197\n",
      "\n",
      "                      precision    recall  f1-score   support\n",
      "\n",
      "    Scheherazade New       0.95      0.94      0.95       200\n",
      "              Marhey       0.91      0.94      0.93       200\n",
      "            Lemonada       0.99      0.99      0.99       200\n",
      "IBM Plex Sans Arabic       0.96      0.94      0.95       200\n",
      "\n",
      "            accuracy                           0.95       800\n",
      "           macro avg       0.96      0.95      0.96       800\n",
      "        weighted avg       0.96      0.95      0.96       800\n",
      "\n"
     ]
    },
    {
     "name": "stderr",
     "output_type": "stream",
     "text": [
      "c:\\ProgramData\\anaconda3\\Lib\\site-packages\\sklearn\\linear_model\\_sag.py:350: ConvergenceWarning: The max_iter was reached which means the coef_ did not converge\n",
      "  warnings.warn(\n"
     ]
    },
    {
     "data": {
      "text/plain": [
       "['logistic_model.pkl']"
      ]
     },
     "execution_count": 106,
     "metadata": {},
     "output_type": "execute_result"
    }
   ],
   "source": [
    "# Initialize the model and fit the data\n",
    "\n",
    "# Initialize the model\n",
    "# {'warm_start': True, 'solver': 'saga', 'penalty': 'l2', 'C': 0.001}\n",
    "\n",
    "# {'warm_start': True, 'solver': 'lbfgs', 'penalty': 'l2', 'C': 0.0006723357536499335}\n",
    "model = LogisticRegression(warm_start=True, solver='saga', penalty='l2', C=0.8, random_state=42)\n",
    "# model = LogisticRegression()\n",
    "\n",
    "# Fit the model\n",
    "model.fit(X_train_transformed, y_train)\n",
    "\n",
    "# Predict the test data\n",
    "y_pred = model.predict(X_test_transformed)\n",
    "\n",
    "# Predict the train data\n",
    "y_pred_train = model.predict(X_train_transformed)\n",
    "\n",
    "# Print the training accuracy\n",
    "print(f\"Training Accuracy: {accuracy_score(y_train, y_pred_train)*100}\")\n",
    "\n",
    "# Print the testing accuracy\n",
    "print(f\"Testing Accuracy: {accuracy_score(y_test, y_pred)*100}\")\n",
    "\n",
    "# Print the f1 score of the training data\n",
    "print(f\"Training F1 Score: {f1_score(y_train, y_pred_train, average='weighted')}\")\n",
    "\n",
    "# Print the f1 score of the testing data\n",
    "print (f\"Testing F1 Score: {f1_score(y_test, y_pred, average='weighted')}\")\n",
    "\n",
    "# Print the classification report of the training data\n",
    "print(classification_report(y_train, y_pred_train, target_names=labels))\n",
    "\n",
    "# Print the classification report of the testing data\n",
    "print(classification_report(y_test, y_pred, target_names=labels))\n",
    "\n",
    "# Save the model\n",
    "joblib.dump(model, 'logistic_model.pkl')\n",
    "\n",
    "#ACCUARCY: 95.5%"
   ]
  },
  {
   "cell_type": "code",
   "execution_count": null,
   "metadata": {},
   "outputs": [
    {
     "name": "stdout",
     "output_type": "stream",
     "text": [
      "Fitting 5 folds for each of 100 candidates, totalling 500 fits\n"
     ]
    },
    {
     "data": {
      "text/html": [
       "<div>\n",
       "<style scoped>\n",
       "    .dataframe tbody tr th:only-of-type {\n",
       "        vertical-align: middle;\n",
       "    }\n",
       "\n",
       "    .dataframe tbody tr th {\n",
       "        vertical-align: top;\n",
       "    }\n",
       "\n",
       "    .dataframe thead th {\n",
       "        text-align: right;\n",
       "    }\n",
       "</style>\n",
       "<table border=\"1\" class=\"dataframe\">\n",
       "  <thead>\n",
       "    <tr style=\"text-align: right;\">\n",
       "      <th></th>\n",
       "      <th>param_C</th>\n",
       "      <th>param_kernel</th>\n",
       "      <th>param_gamma</th>\n",
       "      <th>mean_test_score</th>\n",
       "      <th>std_test_score</th>\n",
       "      <th>rank_test_score</th>\n",
       "    </tr>\n",
       "  </thead>\n",
       "  <tbody>\n",
       "    <tr>\n",
       "      <th>73</th>\n",
       "      <td>7.196857</td>\n",
       "      <td>rbf</td>\n",
       "      <td>scale</td>\n",
       "      <td>0.933</td>\n",
       "      <td>0.01</td>\n",
       "      <td>1</td>\n",
       "    </tr>\n",
       "    <tr>\n",
       "      <th>45</th>\n",
       "      <td>19.306977</td>\n",
       "      <td>rbf</td>\n",
       "      <td>scale</td>\n",
       "      <td>0.933</td>\n",
       "      <td>0.01</td>\n",
       "      <td>1</td>\n",
       "    </tr>\n",
       "    <tr>\n",
       "      <th>95</th>\n",
       "      <td>372.759372</td>\n",
       "      <td>rbf</td>\n",
       "      <td>scale</td>\n",
       "      <td>0.933</td>\n",
       "      <td>0.01</td>\n",
       "      <td>1</td>\n",
       "    </tr>\n",
       "    <tr>\n",
       "      <th>84</th>\n",
       "      <td>51.794747</td>\n",
       "      <td>rbf</td>\n",
       "      <td>scale</td>\n",
       "      <td>0.933</td>\n",
       "      <td>0.01</td>\n",
       "      <td>1</td>\n",
       "    </tr>\n",
       "    <tr>\n",
       "      <th>80</th>\n",
       "      <td>19.306977</td>\n",
       "      <td>rbf</td>\n",
       "      <td>scale</td>\n",
       "      <td>0.933</td>\n",
       "      <td>0.01</td>\n",
       "      <td>1</td>\n",
       "    </tr>\n",
       "    <tr>\n",
       "      <th>6</th>\n",
       "      <td>7.196857</td>\n",
       "      <td>rbf</td>\n",
       "      <td>scale</td>\n",
       "      <td>0.933</td>\n",
       "      <td>0.01</td>\n",
       "      <td>1</td>\n",
       "    </tr>\n",
       "    <tr>\n",
       "      <th>71</th>\n",
       "      <td>1000.0</td>\n",
       "      <td>rbf</td>\n",
       "      <td>scale</td>\n",
       "      <td>0.933</td>\n",
       "      <td>0.01</td>\n",
       "      <td>1</td>\n",
       "    </tr>\n",
       "    <tr>\n",
       "      <th>16</th>\n",
       "      <td>372.759372</td>\n",
       "      <td>rbf</td>\n",
       "      <td>scale</td>\n",
       "      <td>0.933</td>\n",
       "      <td>0.01</td>\n",
       "      <td>1</td>\n",
       "    </tr>\n",
       "    <tr>\n",
       "      <th>88</th>\n",
       "      <td>138.949549</td>\n",
       "      <td>rbf</td>\n",
       "      <td>scale</td>\n",
       "      <td>0.933</td>\n",
       "      <td>0.01</td>\n",
       "      <td>1</td>\n",
       "    </tr>\n",
       "    <tr>\n",
       "      <th>29</th>\n",
       "      <td>138.949549</td>\n",
       "      <td>rbf</td>\n",
       "      <td>scale</td>\n",
       "      <td>0.933</td>\n",
       "      <td>0.01</td>\n",
       "      <td>1</td>\n",
       "    </tr>\n",
       "  </tbody>\n",
       "</table>\n",
       "</div>"
      ],
      "text/plain": [
       "       param_C param_kernel param_gamma  mean_test_score  std_test_score  \\\n",
       "73    7.196857          rbf       scale            0.933            0.01   \n",
       "45   19.306977          rbf       scale            0.933            0.01   \n",
       "95  372.759372          rbf       scale            0.933            0.01   \n",
       "84   51.794747          rbf       scale            0.933            0.01   \n",
       "80   19.306977          rbf       scale            0.933            0.01   \n",
       "6     7.196857          rbf       scale            0.933            0.01   \n",
       "71      1000.0          rbf       scale            0.933            0.01   \n",
       "16  372.759372          rbf       scale            0.933            0.01   \n",
       "88  138.949549          rbf       scale            0.933            0.01   \n",
       "29  138.949549          rbf       scale            0.933            0.01   \n",
       "\n",
       "    rank_test_score  \n",
       "73                1  \n",
       "45                1  \n",
       "95                1  \n",
       "84                1  \n",
       "80                1  \n",
       "6                 1  \n",
       "71                1  \n",
       "16                1  \n",
       "88                1  \n",
       "29                1  "
      ]
     },
     "execution_count": 66,
     "metadata": {},
     "output_type": "execute_result"
    }
   ],
   "source": [
    "# svm = SVC()\n",
    "\n",
    "# param_dist = {\n",
    "#     'C': np.logspace(-3, 3, 15), \n",
    "#     'kernel': ['poly', 'rbf'], \n",
    "#     'degree': [2, 3],\n",
    "#     'gamma': ['scale', 'auto']\n",
    "# }\n",
    "\n",
    "# clf_searched = RandomizedSearchCV(svm, param_dist, n_iter=100, cv=5, random_state=42, n_jobs=-1, verbose=1)\n",
    "\n",
    "# clf_searched.fit(X_train_transformed, y_train)\n",
    "# relevant_columns = ['param_C', 'param_kernel', 'param_gamma', 'mean_test_score', 'std_test_score', 'rank_test_score']\n",
    "# cv_results_df = pd.DataFrame(clf_searched.cv_results_)[relevant_columns].round(decimals=3).sort_values(by='rank_test_score')\n",
    "# cv_results_df.head(10)\n",
    "\n",
    "# Best parameters of the SVM\n",
    "# {C : 7.196857 , kernel : 'rbf', gamma : 'scale'}"
   ]
  },
  {
   "cell_type": "code",
   "execution_count": 38,
   "metadata": {},
   "outputs": [
    {
     "name": "stdout",
     "output_type": "stream",
     "text": [
      "Accuracy of SVM model on the training set: 100.0\n",
      "Accuracy of SVM model: 90.125\n",
      "                      precision    recall  f1-score   support\n",
      "\n",
      "    Scheherazade New       1.00      1.00      1.00       800\n",
      "              Marhey       1.00      1.00      1.00       800\n",
      "            Lemonada       1.00      1.00      1.00       797\n",
      "IBM Plex Sans Arabic       1.00      1.00      1.00       800\n",
      "\n",
      "            accuracy                           1.00      3197\n",
      "           macro avg       1.00      1.00      1.00      3197\n",
      "        weighted avg       1.00      1.00      1.00      3197\n",
      "\n",
      "                      precision    recall  f1-score   support\n",
      "\n",
      "    Scheherazade New       0.99      0.66      0.79       200\n",
      "              Marhey       0.87      0.96      0.91       200\n",
      "            Lemonada       1.00      1.00      1.00       200\n",
      "IBM Plex Sans Arabic       0.80      0.99      0.88       200\n",
      "\n",
      "            accuracy                           0.90       800\n",
      "           macro avg       0.92      0.90      0.90       800\n",
      "        weighted avg       0.92      0.90      0.90       800\n",
      "\n"
     ]
    },
    {
     "data": {
      "text/plain": [
       "['svm_model.pkl']"
      ]
     },
     "execution_count": 38,
     "metadata": {},
     "output_type": "execute_result"
    }
   ],
   "source": [
    "# Initialize the SVM model\n",
    "svm = SVC(C=7.196857 , kernel='rbf', gamma='scale', random_state=42)\n",
    "\n",
    "# Fit the SVM on the training data\n",
    "svm.fit(X_train_transformed, y_train)\n",
    "\n",
    "# Predict the labels of the test set\n",
    "y_pred = svm.predict(X_test_transformed)\n",
    "# Predict the labels of the training set\n",
    "y_pred_train = svm.predict(X_train_transformed)\n",
    "\n",
    "# Print the accuracy of the SVM model on the training set\n",
    "print(f\"Accuracy of SVM model on the training set: {accuracy_score(y_train, y_pred_train)*100}\")\n",
    "\n",
    "# Print the accuracy of the SVM model on the test set\n",
    "print(f\"Accuracy of SVM model: {accuracy_score(y_test, y_pred)*100}\")\n",
    "\n",
    "# Print the classification report of the SVM model\n",
    "print(classification_report(y_train, y_pred_train, target_names=labels))\n",
    "\n",
    "# Print the classification report of the SVM model\n",
    "print(classification_report(y_test, y_pred, target_names=labels))\n",
    "\n",
    "# Save the SVM model as h5 file\n",
    "joblib.dump(svm, 'svm_model.pkl')\n",
    "\n",
    "#ACCURACY: 91.25%"
   ]
  },
  {
   "cell_type": "code",
   "execution_count": null,
   "metadata": {},
   "outputs": [],
   "source": [
    "# # Random Forest Classifier\n",
    "\n",
    "# random_forest_clf = RandomForestClassifier(random_state=42)\n",
    "\n",
    "# # Define the hyperparameters distribution (use same ranges as before)\n",
    "# param_dist = {\n",
    "#     'n_estimators': np.arange(200, 500), \n",
    "#     'min_samples_split':  range(2,51),                    # 2 to 50\n",
    "#     'min_samples_leaf': range(1,21),                      # 1 to 20\n",
    "#     'max_depth': range(5, 51, 5),                              # 5 to 50 with step of 5\n",
    "#     'min_impurity_decrease': np.linspace(0.0, 0.2, 20),                   # Decide a reasonable range here (with 20 values)\n",
    "# }\n",
    "\n",
    "# # Initialize RandomizedSearchCV\n",
    "# clf_searched = RandomizedSearchCV(random_forest_clf, param_dist, n_iter=100, cv=5, random_state=42, n_jobs=-1, verbose=1)\n",
    "\n",
    "# clf_searched.fit(X_train_transformed, y_train)\n",
    "# relevant_columns = ['param_n_estimators', 'param_min_samples_split', 'param_min_samples_leaf', 'param_max_depth', 'param_min_impurity_decrease', \n",
    "#                     'mean_test_score', 'std_test_score', 'rank_test_score']\n",
    "# cv_results_df = pd.DataFrame(clf_searched.cv_results_)[relevant_columns].round(decimals=3).sort_values(by='rank_test_score')\n",
    "# cv_results_df.head(10)\n",
    "\n",
    "# # Best parameters of the Random Forest Classifier\n",
    "# # {'n_estimators': 371, 'min_samples_split': 48, 'min_samples_leaf': 4, 'min_impurity_decrease': 0.0, 'max_depth': 30}\n",
    "# # Best score: 0.776"
   ]
  },
  {
   "cell_type": "code",
   "execution_count": null,
   "metadata": {},
   "outputs": [
    {
     "name": "stdout",
     "output_type": "stream",
     "text": [
      "Accuracy of Random Forest Classifier model on the training set: 99.96875\n",
      "Accuracy of Random Forest Classifier model: 83.25\n",
      "                      precision    recall  f1-score   support\n",
      "\n",
      "    Scheherazade New       1.00      1.00      1.00       800\n",
      "              Marhey       1.00      1.00      1.00       800\n",
      "            Lemonada       1.00      1.00      1.00       800\n",
      "IBM Plex Sans Arabic       1.00      1.00      1.00       800\n",
      "\n",
      "            accuracy                           1.00      3200\n",
      "           macro avg       1.00      1.00      1.00      3200\n",
      "        weighted avg       1.00      1.00      1.00      3200\n",
      "\n",
      "                      precision    recall  f1-score   support\n",
      "\n",
      "    Scheherazade New       0.92      0.71      0.81       200\n",
      "              Marhey       0.67      0.95      0.79       200\n",
      "            Lemonada       0.96      1.00      0.98       200\n",
      "IBM Plex Sans Arabic       0.86      0.67      0.75       200\n",
      "\n",
      "            accuracy                           0.83       800\n",
      "           macro avg       0.85      0.83      0.83       800\n",
      "        weighted avg       0.85      0.83      0.83       800\n",
      "\n"
     ]
    },
    {
     "data": {
      "text/plain": [
       "['random_forest_clf.pkl']"
      ]
     },
     "execution_count": 60,
     "metadata": {},
     "output_type": "execute_result"
    }
   ],
   "source": [
    "random_forest_clf = RandomForestClassifier(n_estimators=371, min_samples_split=48, min_samples_leaf=4, min_impurity_decrease=0., max_depth=30, random_state=42)\n",
    "\n",
    "# Fit the Random Forest Classifier\n",
    "random_forest_clf.fit(X_train_transformed, y_train)\n",
    "\n",
    "# Predict the labels of the test set\n",
    "y_pred = random_forest_clf.predict(X_test_transformed)\n",
    "\n",
    "# Predict the labels of the training set\n",
    "y_pred_train = random_forest_clf.predict(X_train_transformed)\n",
    "\n",
    "# Print the accuracy of the Random Forest Classifier model on the training set\n",
    "print(f\"Accuracy of Random Forest Classifier model on the training set: {accuracy_score(y_train, y_pred_train)*100}\")\n",
    "\n",
    "# Print the accuracy of the Random Forest Classifier model on the test set\n",
    "print(f\"Accuracy of Random Forest Classifier model: {accuracy_score(y_test, y_pred)*100}\")\n",
    "\n",
    "# Print the classification report of the Random Forest Classifier model\n",
    "print(classification_report(y_train, y_pred_train, target_names=labels))\n",
    "\n",
    "# Print the classification report of the Random Forest Classifier model\n",
    "print(classification_report(y_test, y_pred, target_names=labels))\n",
    "\n",
    "# Save the Random Forest Classifier model as h5 file\n",
    "joblib.dump(random_forest_clf, 'random_forest_clf.pkl')\n",
    "\n",
    "#ACCURACY: 83.25%"
   ]
  },
  {
   "cell_type": "code",
   "execution_count": 110,
   "metadata": {},
   "outputs": [
    {
     "name": "stdout",
     "output_type": "stream",
     "text": [
      "torch.Size([3197, 2982]) torch.Size([3197]) torch.Size([800, 2982]) torch.Size([800])\n"
     ]
    },
    {
     "name": "stderr",
     "output_type": "stream",
     "text": [
      "Epoch 1 Loss: 0.7761: 100%|██████████| 200/200 [00:02<00:00, 96.11it/s] \n"
     ]
    },
    {
     "name": "stdout",
     "output_type": "stream",
     "text": [
      "Accuracy:  94.875\n"
     ]
    },
    {
     "name": "stderr",
     "output_type": "stream",
     "text": [
      "Epoch 2 Loss: 0.0249: 100%|██████████| 200/200 [00:02<00:00, 99.03it/s] \n"
     ]
    },
    {
     "name": "stdout",
     "output_type": "stream",
     "text": [
      "Accuracy:  95.25\n"
     ]
    },
    {
     "name": "stderr",
     "output_type": "stream",
     "text": [
      "Epoch 3 Loss: 0.0105: 100%|██████████| 200/200 [00:01<00:00, 102.62it/s]\n"
     ]
    },
    {
     "name": "stdout",
     "output_type": "stream",
     "text": [
      "Accuracy:  95.625\n"
     ]
    },
    {
     "name": "stderr",
     "output_type": "stream",
     "text": [
      "Epoch 4 Loss: 0.0025: 100%|██████████| 200/200 [00:02<00:00, 99.61it/s] \n"
     ]
    },
    {
     "name": "stdout",
     "output_type": "stream",
     "text": [
      "Accuracy:  96.0\n"
     ]
    },
    {
     "name": "stderr",
     "output_type": "stream",
     "text": [
      "Epoch 5 Loss: 0.0012: 100%|██████████| 200/200 [00:02<00:00, 94.65it/s] \n"
     ]
    },
    {
     "name": "stdout",
     "output_type": "stream",
     "text": [
      "Accuracy:  96.125\n"
     ]
    },
    {
     "name": "stderr",
     "output_type": "stream",
     "text": [
      "Epoch 6 Loss: 0.0008: 100%|██████████| 200/200 [00:02<00:00, 98.86it/s] \n"
     ]
    },
    {
     "name": "stdout",
     "output_type": "stream",
     "text": [
      "Accuracy:  96.125\n"
     ]
    },
    {
     "name": "stderr",
     "output_type": "stream",
     "text": [
      "Epoch 7 Loss: 0.0006: 100%|██████████| 200/200 [00:01<00:00, 100.82it/s]\n"
     ]
    },
    {
     "name": "stdout",
     "output_type": "stream",
     "text": [
      "Accuracy:  96.25\n"
     ]
    },
    {
     "name": "stderr",
     "output_type": "stream",
     "text": [
      "Epoch 8 Loss: 0.0004: 100%|██████████| 200/200 [00:02<00:00, 99.90it/s] \n"
     ]
    },
    {
     "name": "stdout",
     "output_type": "stream",
     "text": [
      "Accuracy:  96.25\n"
     ]
    },
    {
     "name": "stderr",
     "output_type": "stream",
     "text": [
      "Epoch 9 Loss: 0.0003: 100%|██████████| 200/200 [00:02<00:00, 99.95it/s] \n"
     ]
    },
    {
     "name": "stdout",
     "output_type": "stream",
     "text": [
      "Accuracy:  96.25\n"
     ]
    },
    {
     "name": "stderr",
     "output_type": "stream",
     "text": [
      "Epoch 10 Loss: 0.0003: 100%|██████████| 200/200 [00:01<00:00, 101.16it/s]\n"
     ]
    },
    {
     "name": "stdout",
     "output_type": "stream",
     "text": [
      "Accuracy:  96.25\n"
     ]
    },
    {
     "name": "stderr",
     "output_type": "stream",
     "text": [
      "Epoch 11 Loss: 0.0002: 100%|██████████| 200/200 [00:01<00:00, 100.65it/s]\n"
     ]
    },
    {
     "name": "stdout",
     "output_type": "stream",
     "text": [
      "Accuracy:  96.25\n"
     ]
    },
    {
     "name": "stderr",
     "output_type": "stream",
     "text": [
      "Epoch 12 Loss: 0.0002: 100%|██████████| 200/200 [00:02<00:00, 98.96it/s] \n"
     ]
    },
    {
     "name": "stdout",
     "output_type": "stream",
     "text": [
      "Accuracy:  96.25\n"
     ]
    },
    {
     "name": "stderr",
     "output_type": "stream",
     "text": [
      "Epoch 13 Loss: 0.0001: 100%|██████████| 200/200 [00:01<00:00, 100.37it/s]\n"
     ]
    },
    {
     "name": "stdout",
     "output_type": "stream",
     "text": [
      "Accuracy:  96.25\n"
     ]
    },
    {
     "name": "stderr",
     "output_type": "stream",
     "text": [
      "Epoch 14 Loss: 0.0001: 100%|██████████| 200/200 [00:01<00:00, 102.97it/s]\n"
     ]
    },
    {
     "name": "stdout",
     "output_type": "stream",
     "text": [
      "Accuracy:  96.25\n"
     ]
    },
    {
     "name": "stderr",
     "output_type": "stream",
     "text": [
      "Epoch 15 Loss: 0.0001: 100%|██████████| 200/200 [00:02<00:00, 97.66it/s] \n"
     ]
    },
    {
     "name": "stdout",
     "output_type": "stream",
     "text": [
      "Accuracy:  96.25\n"
     ]
    },
    {
     "name": "stderr",
     "output_type": "stream",
     "text": [
      "Epoch 16 Loss: 0.0001: 100%|██████████| 200/200 [00:01<00:00, 100.15it/s]\n"
     ]
    },
    {
     "name": "stdout",
     "output_type": "stream",
     "text": [
      "Accuracy:  96.25\n"
     ]
    },
    {
     "name": "stderr",
     "output_type": "stream",
     "text": [
      "Epoch 17 Loss: 0.0001: 100%|██████████| 200/200 [00:01<00:00, 103.50it/s]\n"
     ]
    },
    {
     "name": "stdout",
     "output_type": "stream",
     "text": [
      "Accuracy:  96.375\n"
     ]
    },
    {
     "name": "stderr",
     "output_type": "stream",
     "text": [
      "Epoch 18 Loss: 0.0001: 100%|██████████| 200/200 [00:02<00:00, 99.67it/s] \n"
     ]
    },
    {
     "name": "stdout",
     "output_type": "stream",
     "text": [
      "Accuracy:  96.375\n"
     ]
    },
    {
     "name": "stderr",
     "output_type": "stream",
     "text": [
      "Epoch 19 Loss: 0.0001: 100%|██████████| 200/200 [00:02<00:00, 100.00it/s]\n"
     ]
    },
    {
     "name": "stdout",
     "output_type": "stream",
     "text": [
      "Accuracy:  96.375\n"
     ]
    },
    {
     "name": "stderr",
     "output_type": "stream",
     "text": [
      "Epoch 20 Loss: 0.0000: 100%|██████████| 200/200 [00:01<00:00, 101.95it/s]\n"
     ]
    },
    {
     "name": "stdout",
     "output_type": "stream",
     "text": [
      "Accuracy:  96.375\n"
     ]
    },
    {
     "name": "stderr",
     "output_type": "stream",
     "text": [
      "Epoch 21 Loss: 0.0000: 100%|██████████| 200/200 [00:02<00:00, 99.50it/s] \n"
     ]
    },
    {
     "name": "stdout",
     "output_type": "stream",
     "text": [
      "Accuracy:  96.375\n"
     ]
    },
    {
     "name": "stderr",
     "output_type": "stream",
     "text": [
      "Epoch 22 Loss: 0.0000: 100%|██████████| 200/200 [00:02<00:00, 99.95it/s] \n"
     ]
    },
    {
     "name": "stdout",
     "output_type": "stream",
     "text": [
      "Accuracy:  96.375\n"
     ]
    },
    {
     "name": "stderr",
     "output_type": "stream",
     "text": [
      "Epoch 23 Loss: 0.0000: 100%|██████████| 200/200 [00:01<00:00, 103.01it/s]\n"
     ]
    },
    {
     "name": "stdout",
     "output_type": "stream",
     "text": [
      "Accuracy:  96.375\n"
     ]
    },
    {
     "name": "stderr",
     "output_type": "stream",
     "text": [
      "Epoch 24 Loss: 0.0000: 100%|██████████| 200/200 [00:01<00:00, 100.01it/s]\n"
     ]
    },
    {
     "name": "stdout",
     "output_type": "stream",
     "text": [
      "Accuracy:  96.375\n"
     ]
    },
    {
     "name": "stderr",
     "output_type": "stream",
     "text": [
      "Epoch 25 Loss: 0.0000: 100%|██████████| 200/200 [00:02<00:00, 98.34it/s] \n"
     ]
    },
    {
     "name": "stdout",
     "output_type": "stream",
     "text": [
      "Accuracy:  96.375\n"
     ]
    },
    {
     "name": "stderr",
     "output_type": "stream",
     "text": [
      "Epoch 26 Loss: 0.0000: 100%|██████████| 200/200 [00:01<00:00, 102.56it/s]\n"
     ]
    },
    {
     "name": "stdout",
     "output_type": "stream",
     "text": [
      "Accuracy:  96.375\n"
     ]
    },
    {
     "name": "stderr",
     "output_type": "stream",
     "text": [
      "Epoch 27 Loss: 0.0000: 100%|██████████| 200/200 [00:02<00:00, 99.35it/s] \n"
     ]
    },
    {
     "name": "stdout",
     "output_type": "stream",
     "text": [
      "Accuracy:  96.5\n"
     ]
    },
    {
     "name": "stderr",
     "output_type": "stream",
     "text": [
      "Epoch 28 Loss: 0.0000: 100%|██████████| 200/200 [00:02<00:00, 98.77it/s] \n"
     ]
    },
    {
     "name": "stdout",
     "output_type": "stream",
     "text": [
      "Accuracy:  96.5\n"
     ]
    },
    {
     "name": "stderr",
     "output_type": "stream",
     "text": [
      "Epoch 29 Loss: 0.0000: 100%|██████████| 200/200 [00:01<00:00, 100.12it/s]\n"
     ]
    },
    {
     "name": "stdout",
     "output_type": "stream",
     "text": [
      "Accuracy:  96.5\n"
     ]
    },
    {
     "name": "stderr",
     "output_type": "stream",
     "text": [
      "Epoch 30 Loss: 0.0000: 100%|██████████| 200/200 [00:01<00:00, 103.41it/s]\n"
     ]
    },
    {
     "name": "stdout",
     "output_type": "stream",
     "text": [
      "Accuracy:  96.5\n",
      "                      precision    recall  f1-score   support\n",
      "\n",
      "    Scheherazade New       0.95      0.95      0.95       200\n",
      "              Marhey       0.94      0.94      0.94       200\n",
      "            Lemonada       1.00      0.99      1.00       200\n",
      "IBM Plex Sans Arabic       0.97      0.96      0.97       200\n",
      "\n",
      "            accuracy                           0.96       800\n",
      "           macro avg       0.97      0.96      0.97       800\n",
      "        weighted avg       0.97      0.96      0.97       800\n",
      "\n"
     ]
    }
   ],
   "source": [
    "# Build a neural networ consist of input layer of size 400, hidden layer of size 256 , hidden layer of size 128 and output layer of size 4 pytorch\n",
    "import torch\n",
    "import torch.nn as nn\n",
    "import torch.optim as optim\n",
    "from torch.utils.data import DataLoader, TensorDataset\n",
    "\n",
    "# Convert the data to tensors\n",
    "X_train_tensor = torch.tensor(X_train_transformed, dtype=torch.float32)\n",
    "y_train_tensor = torch.tensor(y_train, dtype=torch.long)\n",
    "X_test_tensor = torch.tensor(X_test_transformed, dtype=torch.float32)\n",
    "y_test_tensor = torch.tensor(y_test, dtype=torch.long)\n",
    "\n",
    "# Print the shape of the tensors\n",
    "print(X_train_tensor.shape, y_train_tensor.shape, X_test_tensor.shape, y_test_tensor.shape)\n",
    "\n",
    "# Create a dataset\n",
    "train_dataset = TensorDataset(X_train_tensor, y_train_tensor)\n",
    "test_dataset = TensorDataset(X_test_tensor, y_test_tensor)\n",
    "\n",
    "# Create a dataloader\n",
    "train_loader = DataLoader(train_dataset, batch_size=16, shuffle=True)\n",
    "test_loader = DataLoader(test_dataset, batch_size=16, shuffle=False)\n",
    "\n",
    "# Define the neural network\n",
    "class Net(nn.Module):\n",
    "    def __init__(self):\n",
    "        super(Net, self).__init__()\n",
    "        self.fc1 = nn.Linear(2982, 512)\n",
    "        self.fc2 = nn.Linear(512, 256)\n",
    "        self.fc3 = nn.Linear(256, 4)\n",
    "        \n",
    "    def forward(self, x):\n",
    "        x = torch.relu(self.fc1(x))\n",
    "        x = torch.relu(self.fc2(x))\n",
    "        x = self.fc3(x)\n",
    "        return x\n",
    "    \n",
    "# Create the model\n",
    "model = Net()\n",
    "\n",
    "# Define the loss function\n",
    "criterion = nn.CrossEntropyLoss()\n",
    "\n",
    "# Define the optimizer\n",
    "optimizer = optim.Adam(model.parameters(), lr=0.0002)\n",
    "\n",
    "best_score = 0.0\n",
    "\n",
    "# Train the model\n",
    "for epoch in range(30):\n",
    "    model.train()\n",
    "    running_loss = 0.0\n",
    "    pbar = tqdm(enumerate(train_loader), total=len(train_loader))\n",
    "    for i, (X, y) in pbar:\n",
    "        optimizer.zero_grad()\n",
    "        output = model(X)\n",
    "        loss = criterion(output, y)\n",
    "        loss.backward()\n",
    "        optimizer.step()\n",
    "\n",
    "        # update running loss value\n",
    "        running_loss += loss.item()\n",
    "\n",
    "        # update the progress bar with the average loss\n",
    "        pbar.set_description(f\"Epoch {epoch+1} Loss: {running_loss/(i+1):.4f}\")\n",
    "\n",
    "    # reset running loss for next epoch\n",
    "    running_loss = 0.0\n",
    "\n",
    "    # Evaluate the model\n",
    "    model.eval()\n",
    "\n",
    "    # Get the predictions\n",
    "    y_pred = []\n",
    "    y_true = []\n",
    "    for X, y in test_loader:\n",
    "        output = model(X)\n",
    "        y_pred.extend(torch.argmax(output, 1).tolist())\n",
    "        y_true.extend(y.tolist())\n",
    "\n",
    "    # Calculate the accuracy\n",
    "    accuracy = accuracy_score(y_true, y_pred)*100\n",
    "    print('Accuracy: ', accuracy)\n",
    "\n",
    "    # If the accuracy is better than the best score so far, save the model\n",
    "    if accuracy > best_score:\n",
    "        best_score = accuracy\n",
    "        torch.save(model.state_dict(), 'best_model.pth')\n",
    "\n",
    "# Print the classification report\n",
    "print(classification_report(y_true, y_pred, target_names=labels))\n",
    "# Accuracy:  96.75%"
   ]
  },
  {
   "cell_type": "code",
   "execution_count": 115,
   "metadata": {},
   "outputs": [],
   "source": [
    "from sklearn.base import BaseEstimator, ClassifierMixin\n",
    "from sklearn.preprocessing import LabelEncoder\n",
    "from tqdm import tqdm\n",
    "import torch\n",
    "\n",
    "class PyTorchClassifier(BaseEstimator, ClassifierMixin):\n",
    "    def __init__(self, model, criterion, optimizer, epochs):\n",
    "        self.model = model\n",
    "        self.criterion = criterion\n",
    "        self.optimizer = optimizer\n",
    "        self.epochs = epochs\n",
    "        self.label_encoder = LabelEncoder()\n",
    "\n",
    "    def fit(self, X, y):\n",
    "        # Convert data to tensors\n",
    "        X_tensor = torch.tensor(X, dtype=torch.float32)\n",
    "        y = self.label_encoder.fit_transform(y)\n",
    "        y_tensor = torch.tensor(y, dtype=torch.long)\n",
    "\n",
    "        # Set the classes_ attribute\n",
    "        self.classes_ = self.label_encoder.classes_\n",
    "\n",
    "        best_loss = float('inf')\n",
    "\n",
    "        # Train the model\n",
    "        for epoch in tqdm(range(self.epochs), desc='Training', unit='epoch'):\n",
    "            self.model.train()\n",
    "            self.optimizer.zero_grad()\n",
    "            output = self.model(X_tensor)\n",
    "            loss = self.criterion(output, y_tensor)\n",
    "            loss.backward()\n",
    "            self.optimizer.step()\n",
    "\n",
    "            # Save the model with the lowest loss\n",
    "            if loss.item() < best_loss:\n",
    "                best_loss = loss.item()\n",
    "                torch.save(self.model.state_dict(), 'best_model.pth')\n",
    "\n",
    "        return self\n",
    "\n",
    "    def predict(self, X):\n",
    "        # Convert data to tensor\n",
    "        X_tensor = torch.tensor(X, dtype=torch.float32)\n",
    "\n",
    "        # Get the model's predictions\n",
    "        self.model.eval()\n",
    "        predictions = []\n",
    "        with torch.no_grad():\n",
    "            output = self.model(X_tensor)\n",
    "            predictions = torch.argmax(output, dim=1)\n",
    "\n",
    "        return self.label_encoder.inverse_transform(predictions)\n",
    "\n",
    "    def predict_proba(self, X):\n",
    "        # Convert data to tensor\n",
    "        X_tensor = torch.tensor(X, dtype=torch.float32)\n",
    "\n",
    "        # Get the model's predictions\n",
    "        self.model.eval()\n",
    "        with torch.no_grad():\n",
    "            output = self.model(X_tensor)\n",
    "            probabilities = torch.softmax(output, dim=1)\n",
    "\n",
    "        return probabilities.numpy()"
   ]
  },
  {
   "cell_type": "code",
   "execution_count": 118,
   "metadata": {},
   "outputs": [
    {
     "name": "stderr",
     "output_type": "stream",
     "text": [
      "c:\\ProgramData\\anaconda3\\Lib\\site-packages\\sklearn\\linear_model\\_sag.py:350: ConvergenceWarning: The max_iter was reached which means the coef_ did not converge\n",
      "  warnings.warn(\n",
      "Training: 100%|██████████| 10/10 [00:00<00:00, 15.08epoch/s]\n",
      "c:\\ProgramData\\anaconda3\\Lib\\site-packages\\sklearn\\linear_model\\_sag.py:350: ConvergenceWarning: The max_iter was reached which means the coef_ did not converge\n",
      "  warnings.warn(\n",
      "c:\\ProgramData\\anaconda3\\Lib\\site-packages\\sklearn\\linear_model\\_sag.py:350: ConvergenceWarning: The max_iter was reached which means the coef_ did not converge\n",
      "  warnings.warn(\n",
      "c:\\ProgramData\\anaconda3\\Lib\\site-packages\\sklearn\\linear_model\\_sag.py:350: ConvergenceWarning: The max_iter was reached which means the coef_ did not converge\n",
      "  warnings.warn(\n",
      "c:\\ProgramData\\anaconda3\\Lib\\site-packages\\sklearn\\linear_model\\_sag.py:350: ConvergenceWarning: The max_iter was reached which means the coef_ did not converge\n",
      "  warnings.warn(\n",
      "c:\\ProgramData\\anaconda3\\Lib\\site-packages\\sklearn\\linear_model\\_sag.py:350: ConvergenceWarning: The max_iter was reached which means the coef_ did not converge\n",
      "  warnings.warn(\n",
      "Training: 100%|██████████| 10/10 [00:00<00:00, 19.49epoch/s]\n",
      "Training: 100%|██████████| 10/10 [00:00<00:00, 17.76epoch/s]\n",
      "Training: 100%|██████████| 10/10 [00:00<00:00, 18.94epoch/s]\n",
      "Training: 100%|██████████| 10/10 [00:00<00:00, 18.59epoch/s]\n",
      "Training: 100%|██████████| 10/10 [00:00<00:00, 18.55epoch/s]\n"
     ]
    },
    {
     "name": "stdout",
     "output_type": "stream",
     "text": [
      "Accuracy of Stacking Classifier model on the training set: 100.0\n",
      "Accuracy of Stacking Classifier model: 96.0\n",
      "                      precision    recall  f1-score   support\n",
      "\n",
      "    Scheherazade New       1.00      1.00      1.00       800\n",
      "              Marhey       1.00      1.00      1.00       800\n",
      "            Lemonada       1.00      1.00      1.00       797\n",
      "IBM Plex Sans Arabic       1.00      1.00      1.00       800\n",
      "\n",
      "            accuracy                           1.00      3197\n",
      "           macro avg       1.00      1.00      1.00      3197\n",
      "        weighted avg       1.00      1.00      1.00      3197\n",
      "\n",
      "                      precision    recall  f1-score   support\n",
      "\n",
      "    Scheherazade New       0.96      0.95      0.95       200\n",
      "              Marhey       0.95      0.93      0.94       200\n",
      "            Lemonada       0.99      0.99      0.99       200\n",
      "IBM Plex Sans Arabic       0.93      0.97      0.95       200\n",
      "\n",
      "            accuracy                           0.96       800\n",
      "           macro avg       0.96      0.96      0.96       800\n",
      "        weighted avg       0.96      0.96      0.96       800\n",
      "\n"
     ]
    }
   ],
   "source": [
    "# Stacking the models together to get the best model\n",
    "from sklearn.ensemble import StackingClassifier\n",
    "\n",
    "# Define the base models\n",
    "# Stacking the models together to get the best model\n",
    "\n",
    "# Define the base models\n",
    "estimators = [\n",
    "    ('logistic', LogisticRegression(warm_start=True, solver='saga', penalty='l2', C=0.8, random_state=42)),\n",
    "    ('neural_net', PyTorchClassifier(Net(), criterion, optimizer, 10))\n",
    "]\n",
    "meta_model = SVC()\n",
    "\n",
    "# Initialize the stacking classifier\n",
    "stacking_clf = StackingClassifier(estimators=estimators, final_estimator=meta_model, cv=5)\n",
    "\n",
    "# Fit the stacking classifier\n",
    "stacking_clf.fit(X_train_transformed, y_train)\n",
    "\n",
    "# Predict the labels of the test set\n",
    "y_pred = stacking_clf.predict(X_test_transformed)\n",
    "\n",
    "# Predict the labels of the training set\n",
    "y_pred_train = stacking_clf.predict(X_train_transformed)\n",
    "\n",
    "# Print the accuracy of the Stacking Classifier model on the training set\n",
    "print(f\"Accuracy of Stacking Classifier model on the training set: {accuracy_score(y_train, y_pred_train)*100}\")\n",
    "\n",
    "# Print the accuracy of the Stacking Classifier model on the test set\n",
    "print(f\"Accuracy of Stacking Classifier model: {accuracy_score(y_test, y_pred)*100}\")\n",
    "\n",
    "# Print the classification report of the Stacking Classifier model\n",
    "print(classification_report(y_train, y_pred_train, target_names=labels))\n",
    "\n",
    "# Print the classification report of the Stacking Classifier model\n",
    "print(classification_report(y_test, y_pred, target_names=labels))\n",
    "\n",
    "# ACCURACY: 96%"
   ]
  }
 ],
 "metadata": {
  "kernelspec": {
   "display_name": "base",
   "language": "python",
   "name": "python3"
  },
  "language_info": {
   "codemirror_mode": {
    "name": "ipython",
    "version": 3
   },
   "file_extension": ".py",
   "mimetype": "text/x-python",
   "name": "python",
   "nbconvert_exporter": "python",
   "pygments_lexer": "ipython3",
   "version": "3.11.5"
  }
 },
 "nbformat": 4,
 "nbformat_minor": 2
}
