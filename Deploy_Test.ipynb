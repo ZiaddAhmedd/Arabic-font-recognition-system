{
 "cells": [
  {
   "cell_type": "code",
   "execution_count": 1,
   "metadata": {},
   "outputs": [
    {
     "name": "stderr",
     "output_type": "stream",
     "text": [
      "100%|██████████| 1/1 [00:00<00:00, 23.81it/s]\n",
      "100%|██████████| 1/1 [00:00<00:00, 16.39it/s]\n"
     ]
    },
    {
     "name": "stdout",
     "output_type": "stream",
     "text": [
      "tensor([[ 8.4820, -2.0202, -5.9106,  1.1098]])\n",
      "[0]\n",
      "First test passed!\n"
     ]
    },
    {
     "name": "stderr",
     "output_type": "stream",
     "text": [
      "100%|██████████| 1/1 [00:00<00:00, 23.26it/s]\n",
      "100%|██████████| 1/1 [00:00<00:00, 16.67it/s]\n"
     ]
    },
    {
     "name": "stdout",
     "output_type": "stream",
     "text": [
      "tensor([[-0.7313,  4.6571, -5.1342, -0.3918]])\n",
      "[1]\n",
      "Second test passed!\n"
     ]
    },
    {
     "name": "stderr",
     "output_type": "stream",
     "text": [
      "100%|██████████| 1/1 [00:00<00:00, 23.66it/s]\n",
      "100%|██████████| 1/1 [00:00<00:00, 14.90it/s]\n"
     ]
    },
    {
     "name": "stdout",
     "output_type": "stream",
     "text": [
      "tensor([[-1.6129, -4.3216,  6.8696,  0.9545]])\n",
      "[2]\n",
      "Third test passed!\n"
     ]
    },
    {
     "name": "stderr",
     "output_type": "stream",
     "text": [
      "100%|██████████| 1/1 [00:00<00:00, 24.39it/s]\n",
      "100%|██████████| 1/1 [00:00<00:00, 13.33it/s]\n"
     ]
    },
    {
     "name": "stdout",
     "output_type": "stream",
     "text": [
      "tensor([[-2.9982, -2.9267,  1.1973,  7.3958]])\n",
      "[3]\n",
      "Fourth test passed!\n"
     ]
    }
   ],
   "source": [
    "from fastapi.testclient import TestClient\n",
    "from Deploy import app\n",
    "\n",
    "client = TestClient(app)\n",
    "\n",
    "def test_predict_font():\n",
    "    response = client.post(\"/predict_font\", files={\"file\": (\"test_image.jpg\", open(\"./fonts-dataset/Scheherazade New/1.jpeg\", \"rb\"))})\n",
    "    assert response.status_code == 200\n",
    "    assert response.json() == {\"pred\": \"Scheherazade New\"}\n",
    "    print(\"First test passed!\")\n",
    "\n",
    "    response = client.post(\"/predict_font\", files={\"file\": (\"test_image.jpg\", open(\"./fonts-dataset/Marhey/10.jpeg\", \"rb\"))})\n",
    "    assert response.status_code == 200\n",
    "    assert response.json() == {\"pred\": \"Marhey\"}\n",
    "    print(\"Second test passed!\")\n",
    "\n",
    "    response = client.post(\"/predict_font\", files={\"file\": (\"test_image.jpg\", open(\"./fonts-dataset/Lemonada/10.jpeg\", \"rb\"))})\n",
    "    assert response.status_code == 200\n",
    "    assert response.json() == {\"pred\": \"Lemonada\"}\n",
    "    print(\"Third test passed!\")\n",
    "\n",
    "    response = client.post(\"/predict_font\", files={\"file\": (\"test_image.jpg\", open(\"./fonts-dataset/IBM Plex Sans Arabic/10.jpeg\", \"rb\"))})\n",
    "    assert response.status_code == 200\n",
    "    assert response.json() == {\"pred\": \"IBM Plex Sans Arabic\"}\n",
    "    print(\"Fourth test passed!\")\n",
    "    \n",
    "if __name__ == \"__main__\":\n",
    "    test_predict_font()"
   ]
  }
 ],
 "metadata": {
  "kernelspec": {
   "display_name": "base",
   "language": "python",
   "name": "python3"
  },
  "language_info": {
   "codemirror_mode": {
    "name": "ipython",
    "version": 3
   },
   "file_extension": ".py",
   "mimetype": "text/x-python",
   "name": "python",
   "nbconvert_exporter": "python",
   "pygments_lexer": "ipython3",
   "version": "3.11.5"
  }
 },
 "nbformat": 4,
 "nbformat_minor": 2
}
